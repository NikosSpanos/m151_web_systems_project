{
 "cells": [
  {
   "cell_type": "code",
   "execution_count": 244,
   "metadata": {},
   "outputs": [],
   "source": [
    "import re\n",
    "\n",
    "text = \"I would like to schedule a trip from Brooklyn museum to Conservatory Garden, Central Park on tomorrow at 21:00\"\n",
    "\n",
    "# Define regular expressions to capture the required information\n",
    "from_pattern = r'from\\s+(.*?)\\s+to'\n",
    "to_pattern = r'(?:.*\\bto\\s)(.*?)(?=\\s*on\\b)'\n",
    "day_pattern = r\"on\\s(\\w+)\\sat\"\n",
    "time_pattern = r\"at\\s([\\d:]+)\"\n",
    "\n",
    "# Extract information using the defined patterns\n",
    "pickup_location = re.search(from_pattern, text).group(1).strip()\n",
    "dropoff_location = re.search(to_pattern, text).group(1).strip()\n",
    "dropoff_location = dropoff_location.split(',')[0] if ',' in dropoff_location else dropoff_location\n",
    "day = re.search(day_pattern, text).group(1).strip().lower()\n",
    "time = re.search(time_pattern, text).group(1).strip()"
   ]
  },
  {
   "cell_type": "code",
   "execution_count": 245,
   "metadata": {},
   "outputs": [],
   "source": [
    "from opencage.geocoder import OpenCageGeocode\n",
    "\n",
    "key = '8d9425286cb64486aae1d5000472b211'\n",
    "geocoder = OpenCageGeocode(key)\n",
    "\n",
    "# query_from = u'Canarsie High School'.lower() + u', New York, USA'.lower()\n",
    "# query_to = u'Brooklyn Museum'.lower() + u', New York, USA'.lower()\n",
    "\n",
    "query_from = f'{pickup_location}'.lower() + u', New York, USA'.lower()\n",
    "query_to = f'{dropoff_location}'.lower() + u', New York, USA'.lower()\n",
    "\n",
    "go_from = geocoder.geocode(query_from)[0]\n",
    "go_to = geocoder.geocode(query_to)[0]\n",
    "neighborhood_from = geocoder.geocode(go_from['components']['neighbourhood'].lower() + u', New York, USA'.lower())[0]\n",
    "neighborhood_to = geocoder.geocode(go_to['components']['neighbourhood'].lower() + u', New York, USA'.lower())[0]"
   ]
  },
  {
   "cell_type": "code",
   "execution_count": 246,
   "metadata": {},
   "outputs": [
    {
     "name": "stdout",
     "output_type": "stream",
     "text": [
      "Trip distance: 19.160700000000002 km\n",
      "Centroid distance (neighborhoods/zones): 13.160362686887272 km\n"
     ]
    }
   ],
   "source": [
    "import openrouteservice\n",
    "from geopy.distance import geodesic\n",
    "\n",
    "client = openrouteservice.Client(key='5b3ce3597851110001cf624841589dcc471d49fbb2b9a6f24ea4e804')\n",
    "distance_coords:tuple = (\n",
    "    (go_from['geometry']['lng'], go_from['geometry']['lat']), #pikcup (lng, lat)\n",
    "    (go_to['geometry']['lng'], go_to['geometry']['lat']) #dropoff (lng, lat)\n",
    ")\n",
    "\n",
    "# Calculate directions from A to B\n",
    "routes = client.directions(distance_coords, profile=\"driving-car\")\n",
    "trip_distance:float = routes['routes'][0]['summary']['distance'] / 1000  # Distance in kilometers\n",
    "\n",
    "centoid_distance:float = geodesic(\n",
    "    (neighborhood_from['geometry']['lat'], neighborhood_from['geometry']['lng']),\n",
    "    (neighborhood_to['geometry']['lat'], neighborhood_to['geometry']['lng'])\n",
    ").kilometers\n",
    "\n",
    "# print(f\"Distance from {pickup_location} to {dropoff_location}: {distance_km} km\")\n",
    "print(f\"Trip distance: {trip_distance} km\")\n",
    "print(f\"Centroid distance (neighborhoods/zones): {centoid_distance} km\")"
   ]
  },
  {
   "cell_type": "code",
   "execution_count": 253,
   "metadata": {},
   "outputs": [],
   "source": [
    "from datetime import datetime, timedelta\n",
    "import holidays\n",
    "\n",
    "day = \"today\"\n",
    "day_mapping:dict = {\n",
    "    \"monday\": 0,\n",
    "    \"tuesday\": 1,\n",
    "    \"wednesday\": 2,\n",
    "    \"thursday\": 3,\n",
    "    \"friday\": 4,\n",
    "    \"saturday\": 5,\n",
    "    \"sunday\": 6\n",
    "}\n",
    "us_holidays = holidays.country_holidays('US', years=range(datetime.now().date().year, (datetime.now() + timedelta(days=1*365)).year))\n",
    "hol_dts = []\n",
    "for date, name in sorted(us_holidays.items()):\n",
    "    hol_dts.append(date)\n",
    "if day == \"today\":\n",
    "    dt = datetime.now().date()\n",
    "elif day == \"tomorrow\":\n",
    "    dt = datetime.now().date() + timedelta(days=1)\n",
    "elif day in [\"monday\", \"tuesday\", \"wednesday\", \"thursday\", \"friday\", \"saturday\", \"sunday\"]:\n",
    "    current_dt = datetime.now().date()\n",
    "    days_ahead = day_mapping[day] - current_dt.weekday() + 7\n",
    "    dt = current_dt + timedelta(days=days_ahead)\n",
    "else:\n",
    "    clean_dt = re.sub(u'[./,-]', '/', day).split('/')\n",
    "    (year_dt, month_dt, day_dt) = datetime.now().year, int(clean_dt[0]), int(clean_dt[1])\n",
    "    dt = datetime(year=year_dt, month=month_dt, day=day_dt).date()\n",
    "#--------------------------------------------------------------------------------------\n",
    "pickup_weekday = dt.weekday() + 1\n",
    "pickup_holiday = int(dt in hol_dts)\n",
    "pickup_weekend = int(pickup_weekday in [6,7])\n",
    "#--------------------------------------------------------------------------------------\n",
    "hour_tm, minute_tm = ( int(time.split(\":\")[0]), int(time.split(\":\")[1]) )\n",
    "pickup_hour = hour_tm\n",
    "pickup_daytime = 1 if (hour_tm in range(7,11)) or (hour_tm in range(16,20)) else 2 if hour_tm in [20,21,22,23,0,1,2,3,4,5,6] else 3\n",
    "pickup_quarter =  (hour_tm * 60 + minute_tm) // 15 + 1\n",
    "month_start = datetime(year=year_dt, month=month_dt, day=1)\n",
    "pickup_tm = datetime(year=year_dt, month=month_dt, day=day_dt, hour=hour_tm, minute=minute_tm)\n",
    "pickup_seconds = (pickup_tm - month_start).total_seconds()/60"
   ]
  },
  {
   "cell_type": "code",
   "execution_count": 256,
   "metadata": {},
   "outputs": [
    {
     "name": "stdout",
     "output_type": "stream",
     "text": [
      "/home/nspanos/m151_web_systems_project/ml_models/trip_duration/20240601/short_trip/models/linear_regressor_best_model.joblib\n",
      "/home/nspanos/m151_web_systems_project/ml_models/trip_duration/20240601/short_trip/models/voting_regressor_best_model.joblib\n"
     ]
    }
   ],
   "source": [
    "import os\n",
    "import configparser\n",
    "import joblib\n",
    "import numpy as np\n",
    "from sklearn.pipeline import Pipeline\n",
    "\n",
    "config = configparser.ConfigParser()\n",
    "current_dir = \"/home/nspanos/m151_web_systems_project/src\"\n",
    "parent_dir = os.path.dirname(current_dir)\n",
    "config.read(os.path.join(parent_dir, \"config\", \"config.ini\"))\n",
    "\n",
    "application_path:str = config.get(\"settings\", \"application_path\")\n",
    "model_artifacts_parent:str = config.get(\"ml-settings\", \"model_artifacts_path\")\n",
    "model_artifacts_child:str = config.get(\"ml-settings\", \"duration_model_artifact\")\n",
    "duration_model_path:str = os.path.join(\n",
    "    application_path, model_artifacts_parent, model_artifacts_child\n",
    ")\n",
    "available_directories:list = [os.path.join(duration_model_path, file) for file in os.listdir(duration_model_path)]\n",
    "latest_modified_directory:str = max(available_directories, key=os.path.getmtime)\n",
    "trip_type:str = \"short_trip\" if trip_distance < 30.0 else \"long_trip\"\n",
    "models_path:str = os.path.join(latest_modified_directory, trip_type, \"models\")\n",
    "predictions:list = []\n",
    "for model in os.listdir(models_path):\n",
    "    print(os.path.join(models_path, model))\n",
    "    regressor:Pipeline = joblib.load(os.path.join(models_path, model))\n",
    "    prediction = regressor.predict([[\n",
    "        trip_distance,\n",
    "        pickup_daytime,\n",
    "        pickup_hour,\n",
    "        pickup_weekday,\n",
    "        pickup_quarter,\n",
    "        pickup_seconds,\n",
    "        pickup_holiday,\n",
    "        pickup_weekend,\n",
    "        centoid_distance\n",
    "    ]])\n",
    "    predictions.append(prediction[0])\n",
    "avg_value = np.round(np.mean(predictions), 2)"
   ]
  },
  {
   "cell_type": "code",
   "execution_count": 257,
   "metadata": {},
   "outputs": [
    {
     "data": {
      "text/plain": [
       "29.5"
      ]
     },
     "execution_count": 257,
     "metadata": {},
     "output_type": "execute_result"
    }
   ],
   "source": [
    "avg_value"
   ]
  },
  {
   "cell_type": "code",
   "execution_count": 222,
   "metadata": {},
   "outputs": [
    {
     "data": {
      "text/plain": [
       "'short_trip'"
      ]
     },
     "execution_count": 222,
     "metadata": {},
     "output_type": "execute_result"
    }
   ],
   "source": [
    "#     \"trip_distance\",  # Will be scaled\n",
    "#     \"pickup_daytime\", # One-Hot-Encode for Linear/Voting Regressor\n",
    "#     \"pickup_hour\",    # One-Hot-Encode for Linear/Voting Regressor\n",
    "#     \"pickup_weekday\", # One-Hot-Encode for Linear/Voting Regressor\n",
    "#     \"pickup_quarter\", # Will be scaled\n",
    "#     \"pickup_seconds\", # Will be scaled\n",
    "#     \"pickup_holiday\",\n",
    "#     \"pickup_weekend\",\n",
    "#     \"haversine_centroid_distance\" # Will be scaled"
   ]
  },
  {
   "cell_type": "code",
   "execution_count": 203,
   "metadata": {},
   "outputs": [],
   "source": [
    "hour_tm, minute_tm = ( int(time.split(\":\")[0]), int(time.split(\":\")[1]) )\n",
    "pickup_hour = hour_tm\n",
    "pickup_daytime = 1 if (hour_tm in range(7,11)) or (hour_tm in range(16,20)) else 2 if hour_tm in [20,21,22,23,0,1,2,3,4,5,6] else 3\n",
    "pickup_quarter =  (hour_tm * 60 + minute_tm) // 15 + 1\n",
    "month_start = datetime(year=year_dt, month=month_dt, day=1)\n",
    "pickup_tm = datetime(year=year_dt, month=month_dt, day=day_dt, hour=hour_tm, minute=minute_tm)\n",
    "pickup_seconds = (pickup_tm - month_start).total_seconds()/60"
   ]
  },
  {
   "cell_type": "code",
   "execution_count": 208,
   "metadata": {},
   "outputs": [
    {
     "data": {
      "text/plain": [
       "datetime.datetime(2024, 6, 2, 9, 0)"
      ]
     },
     "execution_count": 208,
     "metadata": {},
     "output_type": "execute_result"
    }
   ],
   "source": [
    "pickup_tm"
   ]
  },
  {
   "cell_type": "code",
   "execution_count": 210,
   "metadata": {},
   "outputs": [
    {
     "data": {
      "text/plain": [
       "1980.0"
      ]
     },
     "execution_count": 210,
     "metadata": {},
     "output_type": "execute_result"
    }
   ],
   "source": [
    "pickup_seconds.total_seconds()/60"
   ]
  },
  {
   "cell_type": "code",
   "execution_count": null,
   "metadata": {},
   "outputs": [],
   "source": [
    "pickup_tm = datetime(year=year_dt, month=month_dt, day=1)"
   ]
  },
  {
   "cell_type": "code",
   "execution_count": 171,
   "metadata": {},
   "outputs": [
    {
     "data": {
      "text/plain": [
       "1"
      ]
     },
     "execution_count": 171,
     "metadata": {},
     "output_type": "execute_result"
    }
   ],
   "source": [
    "pickup_weekend"
   ]
  },
  {
   "cell_type": "code",
   "execution_count": null,
   "metadata": {},
   "outputs": [],
   "source": [
    "tomorrow -> pickup_weekday, pickup_holiday, pickup_weekend"
   ]
  },
  {
   "cell_type": "code",
   "execution_count": 149,
   "metadata": {},
   "outputs": [
    {
     "data": {
      "text/plain": [
       "4"
      ]
     },
     "execution_count": 149,
     "metadata": {},
     "output_type": "execute_result"
    }
   ],
   "source": [
    "dt.weekday()+1"
   ]
  },
  {
   "cell_type": "code",
   "execution_count": null,
   "metadata": {},
   "outputs": [],
   "source": [
    "tomorrow -> pickup_weekday, pickup_holiday, pickup_weekend"
   ]
  },
  {
   "cell_type": "code",
   "execution_count": 77,
   "metadata": {},
   "outputs": [
    {
     "data": {
      "text/plain": [
       "'Prospect Heights'"
      ]
     },
     "execution_count": 77,
     "metadata": {},
     "output_type": "execute_result"
    }
   ],
   "source": [
    "results_from['components']['neighbourhood']"
   ]
  },
  {
   "cell_type": "code",
   "execution_count": 63,
   "metadata": {},
   "outputs": [
    {
     "data": {
      "text/plain": [
       "{'annotations': {'DMS': {'lat': \"40° 40' 40.33488'' N\",\n",
       "   'lng': \"73° 58' 6.50100'' W\"},\n",
       "  'FIPS': {'county': '36047', 'state': '36'},\n",
       "  'MGRS': '18TWL8717403510',\n",
       "  'Maidenhead': 'FN30aq32sq',\n",
       "  'Mercator': {'x': -8234132.693, 'y': 4937086.153},\n",
       "  'OSM': {'edit_url': 'https://www.openstreetmap.org/edit?node=248606480#map=17/40.67787/-73.96847',\n",
       "   'note_url': 'https://www.openstreetmap.org/note/new#map=17/40.67787/-73.96847&layers=N',\n",
       "   'url': 'https://www.openstreetmap.org/?mlat=40.67787&mlon=-73.96847#map=17/40.67787/-73.96847'},\n",
       "  'UN_M49': {'regions': {'AMERICAS': '019',\n",
       "    'NORTHERN_AMERICA': '021',\n",
       "    'US': '840',\n",
       "    'WORLD': '001'},\n",
       "   'statistical_groupings': ['MEDC']},\n",
       "  'callingcode': 1,\n",
       "  'currency': {'alternate_symbols': ['US$'],\n",
       "   'decimal_mark': '.',\n",
       "   'disambiguate_symbol': 'US$',\n",
       "   'html_entity': '$',\n",
       "   'iso_code': 'USD',\n",
       "   'iso_numeric': '840',\n",
       "   'name': 'United States Dollar',\n",
       "   'smallest_denomination': 1,\n",
       "   'subunit': 'Cent',\n",
       "   'subunit_to_unit': 100,\n",
       "   'symbol': '$',\n",
       "   'symbol_first': 1,\n",
       "   'thousands_separator': ','},\n",
       "  'flag': '🇺🇸',\n",
       "  'geohash': 'dr5rkv1vc8tr41wskzuy',\n",
       "  'qibla': 58.51,\n",
       "  'roadinfo': {'drive_on': 'right', 'speed_in': 'mph'},\n",
       "  'sun': {'rise': {'apparent': 1717147680,\n",
       "    'astronomical': 1717140420,\n",
       "    'civil': 1717145760,\n",
       "    'nautical': 1717143300},\n",
       "   'set': {'apparent': 1717114740,\n",
       "    'astronomical': 1717122060,\n",
       "    'civil': 1717116720,\n",
       "    'nautical': 1717119180}},\n",
       "  'timezone': {'name': 'America/New_York',\n",
       "   'now_in_dst': 1,\n",
       "   'offset_sec': -14400,\n",
       "   'offset_string': '-0400',\n",
       "   'short_name': 'EDT'},\n",
       "  'what3words': {'words': 'stump.cowboy.petty'},\n",
       "  'wikidata': 'Q2159619'},\n",
       " 'bounds': {'northeast': {'lat': 40.6878708, 'lng': -73.9584725},\n",
       "  'southwest': {'lat': 40.6678708, 'lng': -73.9784725}},\n",
       " 'components': {'ISO_3166-1_alpha-2': 'US',\n",
       "  'ISO_3166-1_alpha-3': 'USA',\n",
       "  'ISO_3166-2': ['US-NY'],\n",
       "  '_category': 'place',\n",
       "  '_normalized_city': 'New York',\n",
       "  '_type': 'neighbourhood',\n",
       "  'borough': 'Brooklyn',\n",
       "  'city': 'New York',\n",
       "  'continent': 'North America',\n",
       "  'country': 'United States',\n",
       "  'country_code': 'us',\n",
       "  'county': 'Kings County',\n",
       "  'neighbourhood': 'Prospect Heights',\n",
       "  'postcode': '11238',\n",
       "  'state': 'New York',\n",
       "  'state_code': 'NY'},\n",
       " 'confidence': 8,\n",
       " 'formatted': 'New York, NY 11238, United States of America',\n",
       " 'geometry': {'lat': 40.6778708, 'lng': -73.9684725}}"
      ]
     },
     "execution_count": 63,
     "metadata": {},
     "output_type": "execute_result"
    }
   ],
   "source": [
    "geocoder.geocode(results_from[0]['components']['neighbourhood'].lower() + u', New York, USA'.lower())[0]"
   ]
  },
  {
   "cell_type": "code",
   "execution_count": null,
   "metadata": {},
   "outputs": [],
   "source": []
  },
  {
   "cell_type": "code",
   "execution_count": 27,
   "metadata": {},
   "outputs": [
    {
     "data": {
      "text/plain": [
       "[{'annotations': {'DMS': {'lat': \"40° 40' 35.65920'' N\",\n",
       "    'lng': \"73° 56' 39.48720'' W\"},\n",
       "   'FIPS': {'state': '36'},\n",
       "   'MGRS': '18TWL8921903390',\n",
       "   'Maidenhead': 'FN30aq62qj',\n",
       "   'Mercator': {'x': -8231442.046, 'y': 4936896.247},\n",
       "   'OSM': {'note_url': 'https://www.openstreetmap.org/note/new#map=17/40.67657/-73.94430&layers=N',\n",
       "    'url': 'https://www.openstreetmap.org/?mlat=40.67657&mlon=-73.94430#map=17/40.67657/-73.94430'},\n",
       "   'UN_M49': {'regions': {'AMERICAS': '019',\n",
       "     'NORTHERN_AMERICA': '021',\n",
       "     'US': '840',\n",
       "     'WORLD': '001'},\n",
       "    'statistical_groupings': ['MEDC']},\n",
       "   'callingcode': 1,\n",
       "   'currency': {'alternate_symbols': ['US$'],\n",
       "    'decimal_mark': '.',\n",
       "    'disambiguate_symbol': 'US$',\n",
       "    'html_entity': '$',\n",
       "    'iso_code': 'USD',\n",
       "    'iso_numeric': '840',\n",
       "    'name': 'United States Dollar',\n",
       "    'smallest_denomination': 1,\n",
       "    'subunit': 'Cent',\n",
       "    'subunit_to_unit': 100,\n",
       "    'symbol': '$',\n",
       "    'symbol_first': 1,\n",
       "    'thousands_separator': ','},\n",
       "   'flag': '🇺🇸',\n",
       "   'geohash': 'dr5rmkgqhys5kv19mb2z',\n",
       "   'qibla': 58.52,\n",
       "   'roadinfo': {'drive_on': 'right',\n",
       "    'road': 'Brooklyn Ave',\n",
       "    'speed_in': 'mph'},\n",
       "   'sun': {'rise': {'apparent': 1717147680,\n",
       "     'astronomical': 1717140420,\n",
       "     'civil': 1717145760,\n",
       "     'nautical': 1717143300},\n",
       "    'set': {'apparent': 1717114740,\n",
       "     'astronomical': 1717122060,\n",
       "     'civil': 1717116720,\n",
       "     'nautical': 1717119180}},\n",
       "   'timezone': {'name': 'America/New_York',\n",
       "    'now_in_dst': 1,\n",
       "    'offset_sec': -14400,\n",
       "    'offset_string': '-0400',\n",
       "    'short_name': 'EDT'},\n",
       "   'what3words': {'words': 'wings.butter.stop'}},\n",
       "  'components': {'ISO_3166-1_alpha-2': 'US',\n",
       "   'ISO_3166-1_alpha-3': 'USA',\n",
       "   'ISO_3166-2': ['US-NY'],\n",
       "   '_category': 'road',\n",
       "   '_normalized_city': 'Brooklyn',\n",
       "   '_type': 'road',\n",
       "   'continent': 'North America',\n",
       "   'country': 'United States of America',\n",
       "   'country_code': 'us',\n",
       "   'road': 'Brooklyn Ave',\n",
       "   'state': 'New York',\n",
       "   'state_code': 'NY',\n",
       "   'town': 'Brooklyn'},\n",
       "  'confidence': 5,\n",
       "  'formatted': 'Brooklyn Ave, Brooklyn, NY, United States of America',\n",
       "  'geometry': {'lat': 40.676572, 'lng': -73.944302}},\n",
       " {'annotations': {'DMS': {'lat': \"43° 0' 1.26000'' N\",\n",
       "    'lng': \"75° 29' 59.64000'' W\"},\n",
       "   'FIPS': {'state': '36'},\n",
       "   'MGRS': '18TVN5925460974',\n",
       "   'Maidenhead': 'FN23ga00ac',\n",
       "   'Mercator': {'x': -8404610.423, 'y': 5282874.907},\n",
       "   'OSM': {'note_url': 'https://www.openstreetmap.org/note/new#map=17/43.00035/-75.49990&layers=N',\n",
       "    'url': 'https://www.openstreetmap.org/?mlat=43.00035&mlon=-75.49990#map=17/43.00035/-75.49990'},\n",
       "   'UN_M49': {'regions': {'AMERICAS': '019',\n",
       "     'NORTHERN_AMERICA': '021',\n",
       "     'US': '840',\n",
       "     'WORLD': '001'},\n",
       "    'statistical_groupings': ['MEDC']},\n",
       "   'callingcode': 1,\n",
       "   'currency': {'alternate_symbols': ['US$'],\n",
       "    'decimal_mark': '.',\n",
       "    'disambiguate_symbol': 'US$',\n",
       "    'html_entity': '$',\n",
       "    'iso_code': 'USD',\n",
       "    'iso_numeric': '840',\n",
       "    'name': 'United States Dollar',\n",
       "    'smallest_denomination': 1,\n",
       "    'subunit': 'Cent',\n",
       "    'subunit_to_unit': 100,\n",
       "    'symbol': '$',\n",
       "    'symbol_first': 1,\n",
       "    'thousands_separator': ','},\n",
       "   'flag': '🇺🇸',\n",
       "   'geohash': 'drdk9gyxhy4pneygh74s',\n",
       "   'qibla': 57.37,\n",
       "   'roadinfo': {'drive_on': 'right', 'speed_in': 'mph'},\n",
       "   'sun': {'rise': {'apparent': 1717147620,\n",
       "     'astronomical': 1717139760,\n",
       "     'civil': 1717145580,\n",
       "     'nautical': 1717142940},\n",
       "    'set': {'apparent': 1717115580,\n",
       "     'astronomical': 1717123500,\n",
       "     'civil': 1717117680,\n",
       "     'nautical': 1717120320}},\n",
       "   'timezone': {'name': 'America/New_York',\n",
       "    'now_in_dst': 1,\n",
       "    'offset_sec': -14400,\n",
       "    'offset_string': '-0400',\n",
       "    'short_name': 'EDT'},\n",
       "   'what3words': {'words': 'hawks.downcast.departments'}},\n",
       "  'bounds': {'northeast': {'lat': 45.015865, 'lng': -71.777491},\n",
       "   'southwest': {'lat': 40.477399, 'lng': -79.76259}},\n",
       "  'components': {'ISO_3166-1_alpha-2': 'US',\n",
       "   'ISO_3166-1_alpha-3': 'USA',\n",
       "   'ISO_3166-2': ['US-NY'],\n",
       "   '_category': 'place',\n",
       "   '_type': 'state',\n",
       "   'continent': 'North America',\n",
       "   'country': 'United States of America',\n",
       "   'country_code': 'us',\n",
       "   'state': 'New York',\n",
       "   'state_code': 'NY'},\n",
       "  'confidence': 1,\n",
       "  'formatted': 'New York, United States of America',\n",
       "  'geometry': {'lat': 43.00035, 'lng': -75.4999}}]"
      ]
     },
     "execution_count": 27,
     "metadata": {},
     "output_type": "execute_result"
    }
   ],
   "source": [
    "results_from"
   ]
  }
 ],
 "metadata": {
  "kernelspec": {
   "display_name": "project_venv",
   "language": "python",
   "name": "python3"
  },
  "language_info": {
   "codemirror_mode": {
    "name": "ipython",
    "version": 3
   },
   "file_extension": ".py",
   "mimetype": "text/x-python",
   "name": "python",
   "nbconvert_exporter": "python",
   "pygments_lexer": "ipython3",
   "version": "3.9.13"
  }
 },
 "nbformat": 4,
 "nbformat_minor": 2
}
